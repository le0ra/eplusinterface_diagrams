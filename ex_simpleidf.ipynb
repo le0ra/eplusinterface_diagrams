{
 "metadata": {
  "name": "ex_simpleidf"
 },
 "nbformat": 3,
 "nbformat_minor": 0,
 "worksheets": [
  {
   "cells": [
    {
     "cell_type": "heading",
     "level": 1,
     "metadata": {},
     "source": [
      "Pyeplus Documentation"
     ]
    },
    {
     "cell_type": "markdown",
     "metadata": {},
     "source": [
      "Authors: Santosh Philip, Leora Tanjuatco"
     ]
    },
    {
     "cell_type": "markdown",
     "metadata": {},
     "source": [
      "Pyeplus is a scripting language for E+ idf files, and E+ output files. Pyeplus is written in the programming language Python. As a result it takes full advantage of the rich data structure and idioms that are avaliable in python. You can programmatically navigate, search, and modify E+ idf files useing pyeplus. The power of using a scripting language allows you to do the following:\n",
      "\n",
      "- Make a large number of changes in an idf file with a few lines of pyeplus code.\n",
      "- Use conditions and filters when making changes to a idf file\n",
      "- Make changes to multiple idf files.\n",
      "- Read data from the output files of a E+ simulation run.\n",
      "- Based to the results of a E+ simulation run, generate the input file for the next simulation run.\n",
      "\n",
      "So how does this matter?   \n",
      "Here are some of the things you can do with pyeplus:\n",
      "\n",
      "- Change construction for all north facing walls.\n",
      "- Change the glass type for all windows larger than 2 square meters.\n",
      "- Change the number of people in all the interior zones.\n",
      "- Change the lighting power in all south facing zones. \n",
      "- Change the efficiency and fan power of all rooftop units.\n",
      "- Find the energy use of all the models in a folder (or of models that were run after a certain date) \n",
      "- If a model is using more energy than expected, keep increasing the R-value of the roof until you get to the expected energy use."
     ]
    },
    {
     "cell_type": "heading",
     "level": 2,
     "metadata": {},
     "source": [
      "Quick Start"
     ]
    },
    {
     "cell_type": "markdown",
     "metadata": {},
     "source": [
      "Here is a short IDF file that I\u2019ll be using as an example to start us off:"
     ]
    },
    {
     "cell_type": "raw",
     "metadata": {},
     "source": [
      "VERSION,\n",
      "    7.2;                     !- Version Identifier\n",
      "\n",
      "SIMULATIONCONTROL,\n",
      "    Yes,                     !- Do Zone Sizing Calculation\n",
      "    Yes,                     !- Do System Sizing Calculation\n",
      "    Yes,                     !- Do Plant Sizing Calculation\n",
      "    No,                      !- Run Simulation for Sizing Periods\n",
      "    Yes;                     !- Run Simulation for Weather File Run Periods\n",
      "\n",
      "BUILDING,\n",
      "    White House,             !- Name\n",
      "    30.,                     !- North Axis {deg}\n",
      "    City,                    !- Terrain\n",
      "    0.04,                    !- Loads Convergence Tolerance Value\n",
      "    0.4,                     !- Temperature Convergence Tolerance Value {deltaC}\n",
      "    FullExterior,            !- Solar Distribution\n",
      "    25,                      !- Maximum Number of Warmup Days\n",
      "    6;                       !- Minimum Number of Warmup Days\n",
      "\n",
      "SITE:LOCATION,\n",
      "    CHICAGO_IL_USA TMY2-94846,  !- Name\n",
      "    41.78,                   !- Latitude {deg}\n",
      "    -87.75,                  !- Longitude {deg}\n",
      "    -6.00,                   !- Time Zone {hr}\n",
      "    190.00;                  !- Elevation {m}\n"
     ]
    },
    {
     "cell_type": "markdown",
     "metadata": {},
     "source": [
      "Let's use pyeplus to look at this short file:"
     ]
    },
    {
     "cell_type": "code",
     "collapsed": false,
     "input": [
      "from idfreader import idfreader\n",
      "\n",
      "iddfile = \"../iddfiles/Energy+V7_2_0.idd\" # You can work on any version of E+. Just use the appropiate idd file\n",
      "idf_filename = \"../idffiles/V_7_2/smallfile.idf\" # This is the idf file you are going to work on\n",
      " \n",
      "\n",
      "model, to_print, idd_info = idfreader(idf_filename, iddfile) # reads the idf file here\n",
      "# We get three variables from the function \"idfreader\"\n",
      "# model = we use this to make changes to the model\n",
      "# to_print = we use this to print or save the file\n",
      "# idd_info = we don't use this yet"
     ],
     "language": "python",
     "metadata": {},
     "outputs": [],
     "prompt_number": 2
    },
    {
     "cell_type": "markdown",
     "metadata": {},
     "source": [
      "So let us print this file"
     ]
    },
    {
     "cell_type": "code",
     "collapsed": false,
     "input": [
      "print to_print"
     ],
     "language": "python",
     "metadata": {},
     "outputs": [
      {
       "output_type": "stream",
       "stream": "stdout",
       "text": [
        "VERSION,\n",
        "     7.2;\n",
        "\n",
        "SIMULATIONCONTROL,\n",
        "     Yes,\n",
        "     Yes,\n",
        "     Yes,\n",
        "     No,\n",
        "     Yes;\n",
        "\n",
        "BUILDING,\n",
        "     White House,\n",
        "     30.0,\n",
        "     City,\n",
        "     0.04,\n",
        "     0.4,\n",
        "     FullExterior,\n",
        "     25,\n",
        "     6;\n",
        "\n",
        "SITE:LOCATION,\n",
        "     CHICAGO_IL_USA TMY2-94846,\n",
        "     41.78,\n",
        "     -87.75,\n",
        "     -6.0,\n",
        "     190.0;\n",
        "\n",
        "\n"
       ]
      }
     ],
     "prompt_number": 3
    },
    {
     "cell_type": "markdown",
     "metadata": {},
     "source": [
      "Looks like the same file as before, except that all the comments have been removed. Well ... this version of pyeplus is not smart enough to deal with comments. It just removes all of them :-("
     ]
    },
    {
     "cell_type": "markdown",
     "metadata": {},
     "source": [
      "As you can see, this file has four objects:\n",
      "\n",
      "- VERSION\n",
      "- SIMULATIONCONTROL\n",
      "- BUILDING\n",
      "- SITE:LOCATION\n",
      "\n",
      "\n",
      "So, let us look take a closer look at the BUILDING object"
     ]
    },
    {
     "cell_type": "code",
     "collapsed": false,
     "input": [
      "# we will explain these lines later\n",
      "buildings = model[\"BUILDING\"]\n",
      "building = buildings[0]"
     ],
     "language": "python",
     "metadata": {},
     "outputs": [],
     "prompt_number": 4
    },
    {
     "cell_type": "markdown",
     "metadata": {},
     "source": [
      "Let us look at the name of the building"
     ]
    },
    {
     "cell_type": "code",
     "collapsed": false,
     "input": [
      "print building.Name"
     ],
     "language": "python",
     "metadata": {},
     "outputs": [
      {
       "output_type": "stream",
       "stream": "stdout",
       "text": [
        "White House\n"
       ]
      }
     ],
     "prompt_number": 5
    },
    {
     "cell_type": "markdown",
     "metadata": {},
     "source": [
      "Now let us change the name of the building"
     ]
    },
    {
     "cell_type": "code",
     "collapsed": false,
     "input": [
      "building.Name = \"Empire State Building\""
     ],
     "language": "python",
     "metadata": {},
     "outputs": [],
     "prompt_number": 6
    },
    {
     "cell_type": "code",
     "collapsed": false,
     "input": [
      "print building.Name"
     ],
     "language": "python",
     "metadata": {},
     "outputs": [
      {
       "output_type": "stream",
       "stream": "stdout",
       "text": [
        "Empire State Building\n"
       ]
      }
     ],
     "prompt_number": 7
    },
    {
     "cell_type": "markdown",
     "metadata": {},
     "source": [
      "Did this acutally change the name in the model ? Let us print the entire model and see."
     ]
    },
    {
     "cell_type": "code",
     "collapsed": false,
     "input": [
      "print to_print"
     ],
     "language": "python",
     "metadata": {},
     "outputs": [
      {
       "output_type": "stream",
       "stream": "stdout",
       "text": [
        "VERSION,\n",
        "     7.2;\n",
        "\n",
        "SIMULATIONCONTROL,\n",
        "     Yes,\n",
        "     Yes,\n",
        "     Yes,\n",
        "     No,\n",
        "     Yes;\n",
        "\n",
        "BUILDING,\n",
        "     Empire State Building,\n",
        "     30.0,\n",
        "     City,\n",
        "     0.04,\n",
        "     0.4,\n",
        "     FullExterior,\n",
        "     25,\n",
        "     6;\n",
        "\n",
        "SITE:LOCATION,\n",
        "     CHICAGO_IL_USA TMY2-94846,\n",
        "     41.78,\n",
        "     -87.75,\n",
        "     -6.0,\n",
        "     190.0;\n",
        "\n",
        "\n"
       ]
      }
     ],
     "prompt_number": 8
    },
    {
     "cell_type": "markdown",
     "metadata": {},
     "source": [
      "Yes! it did. So we know we can change any field in any object. \n",
      "\n",
      "But why was it so complicated to get the building object.    \n",
      "It took two rather strange lines:\n"
     ]
    },
    {
     "cell_type": "code",
     "collapsed": false,
     "input": [
      "# now we will explain these two lines\n",
      "buildings = model[\"BUILDING\"]\n",
      "building = buildings[0]"
     ],
     "language": "python",
     "metadata": {},
     "outputs": [],
     "prompt_number": 9
    },
    {
     "cell_type": "markdown",
     "metadata": {},
     "source": [
      "Energyplus models are made up of objects such as \"BUILDING\", \"SITE:LOCATION\", \"ZONE\", \"PEOPLE\", \"LIGHTS\".   \n",
      "There can be a number of \"ZONE\" objects, a number of \"PEOPLE\" objects and a number of \"LIGHTS\" object.   \n",
      "\n",
      " \n"
     ]
    },
    {
     "cell_type": "code",
     "collapsed": false,
     "input": [
      "# There may be a number of BUILDING objects\n",
      "buildings = model[\"BUILDING\"] \n",
      "# this finds all the objects in the model that are BUILDING objects  \n",
      "# buildings is a list of object\n",
      "# list is a data structure from python"
     ],
     "language": "python",
     "metadata": {},
     "outputs": [],
     "prompt_number": 10
    },
    {
     "cell_type": "heading",
     "level": 3,
     "metadata": {},
     "source": [
      "A message from the world of python - (about lists)"
     ]
    },
    {
     "cell_type": "markdown",
     "metadata": {},
     "source": [
      "pyeplus holds these objects in a python structure called list.   \n",
      "Let us take a look at how lists work in python. "
     ]
    },
    {
     "cell_type": "code",
     "collapsed": false,
     "input": [
      "fruits = [\"apple\", \"orange\", \"bannana\"] \n",
      "# fruits is a list with three items in it."
     ],
     "language": "python",
     "metadata": {},
     "outputs": [],
     "prompt_number": 2
    },
    {
     "cell_type": "markdown",
     "metadata": {},
     "source": [
      "To get the first item in fruits we say: "
     ]
    },
    {
     "cell_type": "code",
     "collapsed": false,
     "input": [
      "fruits[0]  \n"
     ],
     "language": "python",
     "metadata": {},
     "outputs": [
      {
       "output_type": "pyout",
       "prompt_number": 12,
       "text": [
        "'apple'"
       ]
      }
     ],
     "prompt_number": 12
    },
    {
     "cell_type": "markdown",
     "metadata": {},
     "source": [
      "Why \"0\" ?  \n",
      "Because, unlike us, python starts counting from zero in a list.  \n",
      "So, to get the third item in the list we'd need to input 2, like this:"
     ]
    },
    {
     "cell_type": "code",
     "collapsed": false,
     "input": [
      "print fruits[2]"
     ],
     "language": "python",
     "metadata": {},
     "outputs": [
      {
       "output_type": "stream",
       "stream": "stdout",
       "text": [
        "bannana\n"
       ]
      }
     ],
     "prompt_number": 3
    },
    {
     "cell_type": "markdown",
     "metadata": {},
     "source": [
      "But calling the first fruit \"fruit[0]\" is rather cumbersome.  \n",
      "Why don't we call it firstfruit?  "
     ]
    },
    {
     "cell_type": "code",
     "collapsed": false,
     "input": [
      "firstfruit = fruits[0]\n",
      "print firstfruit"
     ],
     "language": "python",
     "metadata": {},
     "outputs": [
      {
       "output_type": "stream",
       "stream": "stdout",
       "text": [
        "apple\n"
       ]
      }
     ],
     "prompt_number": 14
    },
    {
     "cell_type": "markdown",
     "metadata": {},
     "source": [
      "We also can say"
     ]
    },
    {
     "cell_type": "code",
     "collapsed": false,
     "input": [
      "goodfruit = fruits[0]\n",
      "redfruit = fruits[0]\n",
      "\n",
      "print firstfruit\n",
      "print goodfruit\n",
      "print redfruit\n",
      "print fruits[0]"
     ],
     "language": "python",
     "metadata": {},
     "outputs": [
      {
       "output_type": "stream",
       "stream": "stdout",
       "text": [
        "apple\n",
        "apple\n",
        "apple\n",
        "apple\n"
       ]
      }
     ],
     "prompt_number": 15
    },
    {
     "cell_type": "markdown",
     "metadata": {},
     "source": [
      " As you see, we can call that item in the list whatever we want.  "
     ]
    },
    {
     "cell_type": "heading",
     "level": 4,
     "metadata": {},
     "source": [
      "How many items in the list"
     ]
    },
    {
     "cell_type": "markdown",
     "metadata": {},
     "source": [
      "To know how many items are in a list, we ask for the length of the list.  \n",
      "The function 'len' will do this for us."
     ]
    },
    {
     "cell_type": "code",
     "collapsed": false,
     "input": [
      "print len(fruits)"
     ],
     "language": "python",
     "metadata": {},
     "outputs": [
      {
       "output_type": "stream",
       "stream": "stdout",
       "text": [
        "3\n"
       ]
      }
     ],
     "prompt_number": 16
    },
    {
     "cell_type": "markdown",
     "metadata": {},
     "source": [
      "There are 3 fruits in the list."
     ]
    },
    {
     "cell_type": "heading",
     "level": 3,
     "metadata": {},
     "source": [
      "Back to the pyeplus documentation"
     ]
    },
    {
     "cell_type": "code",
     "collapsed": false,
     "input": [
      "# There may be a number of BUILDING objects\n",
      "buildings = model[\"BUILDING\"] \n",
      "# finds all the objects in the model that are BUILDING objects  "
     ],
     "language": "python",
     "metadata": {},
     "outputs": [],
     "prompt_number": 17
    },
    {
     "cell_type": "markdown",
     "metadata": {},
     "source": [
      "\"buildings\" is a list with many \"BUILDING\" objects  \n",
      "We can get the first item in the list by  "
     ]
    },
    {
     "cell_type": "code",
     "collapsed": false,
     "input": [
      "building = buildings[0]"
     ],
     "language": "python",
     "metadata": {},
     "outputs": [],
     "prompt_number": 18
    },
    {
     "cell_type": "markdown",
     "metadata": {},
     "source": [
      "We know that in a E+ model, there will be only ONE \"BUILDING\" object. This will be the first and only item in the list \"buildings\".  \n",
      " \n",
      "Earlier we changed building.Name from \"White House\" to \"Empire State Building\".  "
     ]
    },
    {
     "cell_type": "code",
     "collapsed": false,
     "input": [
      "print building.Name"
     ],
     "language": "python",
     "metadata": {},
     "outputs": [
      {
       "output_type": "stream",
       "stream": "stdout",
       "text": [
        "Empire State Building\n"
       ]
      }
     ],
     "prompt_number": 19
    },
    {
     "cell_type": "markdown",
     "metadata": {},
     "source": [
      "\"Name\" is one of the fields in \"building\".  \n",
      "How did we know this?  \n",
      "\n",
      "Are there other fields?  \n",
      "What are they called?\n",
      "\n",
      "Let us take a look at the \"IDF Editor\"."
     ]
    },
    {
     "cell_type": "code",
     "collapsed": false,
     "input": [
      "import ex_inits as for_images # initializes the images used in this documentation\n",
      "for_images.display_png(for_images.idfeditor) # show the image below"
     ],
     "language": "python",
     "metadata": {},
     "outputs": [
      {
       "output_type": "display_data",
       "png": "[encoded data removed]",
       "text": [
        "<IPython.core.display.Image at 0x10499ed50>"
       ]
      }
     ],
     "prompt_number": 20
    },
    {
     "cell_type": "markdown",
     "metadata": {},
     "source": [
      "In the IDF Editor, the building object is selected.  \n",
      "We can see all the fields of the object \"BUILDING\".  \n",
      "They are: \n",
      "\n",
      "- Name\n",
      "- North Axis\n",
      "- Terrain\n",
      "- Loads Convergence Tolerance Value\n",
      "- Temperature Convergence Tolerance Value\n",
      "- Solar Distribution\n",
      "- Maximum Number of Warmup Days\n",
      "- Minimum Number of Warmup Days\n",
      "\n",
      "Let us try to access the other fields"
     ]
    },
    {
     "cell_type": "code",
     "collapsed": false,
     "input": [
      "print building.Terrain"
     ],
     "language": "python",
     "metadata": {},
     "outputs": [
      {
       "output_type": "stream",
       "stream": "stdout",
       "text": [
        "City\n"
       ]
      }
     ],
     "prompt_number": 21
    },
    {
     "cell_type": "markdown",
     "metadata": {},
     "source": [
      "How about the field \"North Axis\" ?\n",
      "It is not a single word, but two words.  \n",
      "In a programming language, a varaible has to be a single word without any spaces.  \n",
      "\n",
      "To solve this problem, peplus expects an underscore where there is a space.  \n",
      "So \"North Axis\" becomes \"North_Axis\"."
     ]
    },
    {
     "cell_type": "code",
     "collapsed": false,
     "input": [
      "print building.North_Axis"
     ],
     "language": "python",
     "metadata": {},
     "outputs": [
      {
       "output_type": "stream",
       "stream": "stdout",
       "text": [
        "30.0\n"
       ]
      }
     ],
     "prompt_number": 22
    },
    {
     "cell_type": "markdown",
     "metadata": {},
     "source": [
      "Now we can do:"
     ]
    },
    {
     "cell_type": "code",
     "collapsed": false,
     "input": [
      "print building.Name\n",
      "print building.North_Axis\n",
      "print building.Terrain\n",
      "print building.Loads_Convergence_Tolerance_Value\n",
      "print building.Temperature_Convergence_Tolerance_Value\n",
      "print building.Solar_Distribution\n",
      "print building.Maximum_Number_of_Warmup_Days\n",
      "print building.Minimum_Number_of_Warmup_Days"
     ],
     "language": "python",
     "metadata": {},
     "outputs": [
      {
       "output_type": "stream",
       "stream": "stdout",
       "text": [
        "Empire State Building\n",
        "30.0\n",
        "City\n",
        "0.04\n",
        "0.4\n",
        "FullExterior\n",
        "25\n",
        "6\n"
       ]
      }
     ],
     "prompt_number": 23
    },
    {
     "cell_type": "markdown",
     "metadata": {},
     "source": [
      "Where else can we find the field names?  \n",
      "The IDF Editor saves the idf file with the field name commented next to field.  \n",
      "Let us take a look at the \"BUILDING\" object in the text file that the IDF Editor saves"
     ]
    },
    {
     "cell_type": "raw",
     "metadata": {},
     "source": [
      "BUILDING,\n",
      "    White House,             !- Name\n",
      "    30.,                     !- North Axis {deg}\n",
      "    City,                    !- Terrain\n",
      "    0.04,                    !- Loads Convergence Tolerance Value\n",
      "    0.4,                     !- Temperature Convergence Tolerance Value {deltaC}\n",
      "    FullExterior,            !- Solar Distribution\n",
      "    25,                      !- Maximum Number of Warmup Days\n",
      "    6;                       !- Minimum Number of Warmup Days"
     ]
    },
    {
     "cell_type": "markdown",
     "metadata": {},
     "source": [
      "This a good place to find the field names too. \n",
      "It is easy to copy and paste from here. You can't do that from the IDF Editor."
     ]
    },
    {
     "cell_type": "heading",
     "level": 2,
     "metadata": {},
     "source": [
      "Saving an idf file"
     ]
    },
    {
     "cell_type": "heading",
     "level": 3,
     "metadata": {},
     "source": [
      "Reading and writing a file in python"
     ]
    },
    {
     "cell_type": "raw",
     "metadata": {},
     "source": [
      "if you are familiar with python, skip this section"
     ]
    },
    {
     "cell_type": "markdown",
     "metadata": {},
     "source": [
      "Let us write some text \"The quick brown fox jumped over the lazy dog\" to a file called \"something.txt\""
     ]
    },
    {
     "cell_type": "code",
     "collapsed": false,
     "input": [
      "sometxt = \"The quick brown fox jumped over the lazy dog\"\n",
      "filename = \"something.txt\"\n",
      "\n",
      "filehandle = open(filename, 'w')\n",
      "filehandle.write(sometxt) # this is where we write to the filehandle\n",
      "filehandle.close()"
     ],
     "language": "python",
     "metadata": {},
     "outputs": [],
     "prompt_number": 24
    },
    {
     "cell_type": "markdown",
     "metadata": {},
     "source": [
      "That was rather complicated. What is the deal with the filehandle?   \n",
      "Can't I just write to \"something.txt\" ?   \n",
      "Well ... python needs to know that \"something.txt\" is a file.  \n",
      "OK ... what does that 'w' mean?  \n",
      "'w' tells python that the file is opened to write into it. (apparently python needs to know this :-)  \n",
      "why do you have to do filehandle.close()  \n",
      "heck .. python needs to know that you are done writing.\n",
      "\n",
      "OK ... so where is this file saved ?  \n",
      "Why don't you look for it ?  \n",
      "just kidding ....  \n",
      "If you want to be sure of where the file is, give it the full path name:  \n",
      "filename = \"C:/somefolder/something.txt\"  \n",
      "\n",
      "NOTE: always use frontslash '/' in the filename. Python will convert it to backslash '\\' on a windows machine"
     ]
    },
    {
     "cell_type": "code",
     "collapsed": false,
     "input": [
      "# actually you can do this in one line\n",
      "# You can open, write and close the file in one line\n",
      "open(filename, 'w').write(sometxt)"
     ],
     "language": "python",
     "metadata": {},
     "outputs": [],
     "prompt_number": 25
    },
    {
     "cell_type": "markdown",
     "metadata": {},
     "source": [
      "Use the one liner in your code.  \n",
      "I explained it the long way to show some of the comcepts.  "
     ]
    },
    {
     "cell_type": "heading",
     "level": 3,
     "metadata": {},
     "source": [
      "Back to writing an idf to a file in pyeplus"
     ]
    },
    {
     "cell_type": "markdown",
     "metadata": {},
     "source": [
      "We used:"
     ]
    },
    {
     "cell_type": "raw",
     "metadata": {},
     "source": [
      "print to_print"
     ]
    },
    {
     "cell_type": "markdown",
     "metadata": {},
     "source": [
      "to print the file to the screen.  \n",
      "\"to_print\" is smart enough to know how to print itself to the screen as though it is a text variable.  \n",
      "It is not a text variable, but a rather complex python object.  \n",
      "\n",
      "We can only write text to a file.\n",
      "So we need to convert this to_print variable into text"
     ]
    },
    {
     "cell_type": "code",
     "collapsed": false,
     "input": [
      "idftext = str(to_print) # that was easy !!"
     ],
     "language": "python",
     "metadata": {},
     "outputs": [],
     "prompt_number": 26
    },
    {
     "cell_type": "code",
     "collapsed": false,
     "input": [
      "# and we write it to a file.\n",
      "filename = \"model.idf\"\n",
      "open(filename, 'w').write(idftext) # viola ! it is done."
     ],
     "language": "python",
     "metadata": {},
     "outputs": [],
     "prompt_number": 27
    },
    {
     "cell_type": "markdown",
     "metadata": {},
     "source": [
      "So if you want to save a file, you give it the same file name it had.   \n",
      "In this example, that name was \"model.idf\".  \n",
      "For a  \"save as ..\", just input a different file name."
     ]
    },
    {
     "cell_type": "heading",
     "level": 2,
     "metadata": {},
     "source": [
      "Working with E+ objects"
     ]
    },
    {
     "cell_type": "markdown",
     "metadata": {},
     "source": [
      "Let us open a small idf file that has only \"CONSTRUCTION\" and \"MATERIAL\" objects in it.  \n",
      "You can go into \"../idffiles/V_7_2/constructions.idf\" and take a look at the file.   \n",
      "We are not printing it here because it is too big.  \n",
      "\n",
      "So let us open it using the idfreader"
     ]
    },
    {
     "cell_type": "code",
     "collapsed": false,
     "input": [
      "from idfreader import idfreader\n",
      "\n",
      "iddfile = \"../iddfiles/Energy+V7_2_0.idd\" # You can work on any version of E+. Just use the appropiate idd file\n",
      "idf_filename = \"../idffiles/V_7_2/constructions.idf\" # This is the idf file you are going to work on\n",
      " \n",
      "\n",
      "model, to_print, idd_info = idfreader(idf_filename, iddfile) # reads the idf file here\n"
     ],
     "language": "python",
     "metadata": {},
     "outputs": [],
     "prompt_number": 28
    },
    {
     "cell_type": "markdown",
     "metadata": {},
     "source": [
      "Let us get all the \"MATERIAL\" objects in this model"
     ]
    },
    {
     "cell_type": "code",
     "collapsed": false,
     "input": [
      "materials = model[\"MATERIAL\"]"
     ],
     "language": "python",
     "metadata": {},
     "outputs": [],
     "prompt_number": 29
    },
    {
     "cell_type": "markdown",
     "metadata": {},
     "source": [
      "There are many material objects in this idf file.  \n",
      "materials now contains a list of \"MATERIAL\" objects.  \n",
      "You already know a little about lists, so let us take a look at the items in this list.  "
     ]
    },
    {
     "cell_type": "code",
     "collapsed": false,
     "input": [
      "firstmaterial = materials[0]\n",
      "secondmaterial = materials[1]"
     ],
     "language": "python",
     "metadata": {},
     "outputs": [],
     "prompt_number": 30
    },
    {
     "cell_type": "code",
     "collapsed": false,
     "input": [
      "print firstmaterial"
     ],
     "language": "python",
     "metadata": {},
     "outputs": [
      {
       "output_type": "stream",
       "stream": "stdout",
       "text": [
        "\n",
        "Material,                 \n",
        "    F08 Metal surface,        !- Name\n",
        "    Smooth,                   !- Roughness\n",
        "    0.0008,                   !- Thickness\n",
        "    45.28,                    !- Conductivity\n",
        "    7824.0,                   !- Density\n",
        "    500.0;                    !- Specific Heat\n",
        "\n"
       ]
      }
     ],
     "prompt_number": 31
    },
    {
     "cell_type": "markdown",
     "metadata": {},
     "source": [
      "hey ! I thought it could not print the comments.  \n",
      "Well .... each object is smart enough to print the comments, but the entire model is not :-(\n",
      "\n",
      "Let us print secondmaterial"
     ]
    },
    {
     "cell_type": "code",
     "collapsed": false,
     "input": [
      "print secondmaterial"
     ],
     "language": "python",
     "metadata": {},
     "outputs": [
      {
       "output_type": "stream",
       "stream": "stdout",
       "text": [
        "\n",
        "Material,                 \n",
        "    I01 25mm insulation board,    !- Name\n",
        "    MediumRough,              !- Roughness\n",
        "    0.0254,                   !- Thickness\n",
        "    0.03,                     !- Conductivity\n",
        "    43.0,                     !- Density\n",
        "    1210.0;                   !- Specific Heat\n",
        "\n"
       ]
      }
     ],
     "prompt_number": 32
    },
    {
     "cell_type": "markdown",
     "metadata": {},
     "source": [
      "This is awesome!! Why?  \n",
      "To understand what you can do with your objects organized as lists, you'll have to learn a little more about lists."
     ]
    },
    {
     "cell_type": "heading",
     "level": 3,
     "metadata": {},
     "source": [
      "Python again: more about lists"
     ]
    },
    {
     "cell_type": "heading",
     "level": 4,
     "metadata": {},
     "source": [
      "More ways to access items in a list"
     ]
    },
    {
     "cell_type": "markdown",
     "metadata": {},
     "source": [
      "You should remember that you can access any item in a list by passing in its index.  \n",
      "The tricky part is that python starts counting at 0, so you need to input 0 in order to get the first item in a list.   \n",
      "Following the same logic, you need to input 3 in order to get the fourth item on the list. Like so:"
     ]
    },
    {
     "cell_type": "code",
     "collapsed": false,
     "input": [
      "bad_architects = [\"Donald Trump\", \"Mick Jagger\", \"Steve Jobs\", \"Lady Gaga\", \"Santa Clause\"]\n",
      "print bad_architects[3]"
     ],
     "language": "python",
     "metadata": {},
     "outputs": [
      {
       "output_type": "stream",
       "stream": "stdout",
       "text": [
        "Lady Gaga\n"
       ]
      }
     ],
     "prompt_number": 33
    },
    {
     "cell_type": "markdown",
     "metadata": {},
     "source": [
      "But there's another way to access items in a list. If you input -1, it will return the last item. -2 will give you the second-to-last item, etc."
     ]
    },
    {
     "cell_type": "code",
     "collapsed": false,
     "input": [
      "print bad_architects[-1]\n",
      "print bad_architects[-2]"
     ],
     "language": "python",
     "metadata": {},
     "outputs": [
      {
       "output_type": "stream",
       "stream": "stdout",
       "text": [
        "Santa Clause\n",
        "Lady Gaga\n"
       ]
      }
     ],
     "prompt_number": 34
    },
    {
     "cell_type": "heading",
     "level": 4,
     "metadata": {},
     "source": [
      "Slicing a list"
     ]
    },
    {
     "cell_type": "markdown",
     "metadata": {},
     "source": [
      "You can also get more than one item in a list:\n"
     ]
    },
    {
     "cell_type": "raw",
     "metadata": {},
     "source": [
      "bad_architects[first_slice:second_slice]"
     ]
    },
    {
     "cell_type": "code",
     "collapsed": false,
     "input": [
      "print bad_architects[1:3] # slices at 1 and 3"
     ],
     "language": "python",
     "metadata": {},
     "outputs": [
      {
       "output_type": "stream",
       "stream": "stdout",
       "text": [
        "['Mick Jagger', 'Steve Jobs']\n"
       ]
      }
     ],
     "prompt_number": 35
    },
    {
     "cell_type": "markdown",
     "metadata": {},
     "source": [
      "How do I make sense of this?  \n",
      "To understand this you need to see the list in the following manner:"
     ]
    },
    {
     "cell_type": "raw",
     "metadata": {},
     "source": [
      "[ \"Donald Trump\", \"Mick Jagger\", \"Steve Jobs\", \"Lady Gaga\", \"Santa Clause\" ]\n",
      " ^               ^              ^             ^            ^              ^\n",
      " 0               1              2             3            4              5\n",
      "-5              -4             -3            -2           -1"
     ]
    },
    {
     "cell_type": "markdown",
     "metadata": {},
     "source": [
      "The slice operation bad_architects[1:3] slices right where the numbers are.  \n",
      "Does that make sense?"
     ]
    },
    {
     "cell_type": "markdown",
     "metadata": {},
     "source": [
      "Let us try a few other slices:"
     ]
    },
    {
     "cell_type": "code",
     "collapsed": false,
     "input": [
      "print bad_architects[2:-1] # slices at 2 and -1\n",
      "print bad_architects[-3:-1] # slices at -3 and -1"
     ],
     "language": "python",
     "metadata": {},
     "outputs": [
      {
       "output_type": "stream",
       "stream": "stdout",
       "text": [
        "['Steve Jobs', 'Lady Gaga']\n",
        "['Steve Jobs', 'Lady Gaga']\n"
       ]
      }
     ],
     "prompt_number": 36
    },
    {
     "cell_type": "markdown",
     "metadata": {},
     "source": [
      "You can also slice in the following way:"
     ]
    },
    {
     "cell_type": "code",
     "collapsed": false,
     "input": [
      "print bad_architects[3:] \n",
      "print bad_architects[:2] \n",
      "print bad_architects[-3:] \n",
      "print bad_architects[:-2] "
     ],
     "language": "python",
     "metadata": {},
     "outputs": [
      {
       "output_type": "stream",
       "stream": "stdout",
       "text": [
        "['Lady Gaga', 'Santa Clause']\n",
        "['Donald Trump', 'Mick Jagger']\n",
        "['Steve Jobs', 'Lady Gaga', 'Santa Clause']\n",
        "['Donald Trump', 'Mick Jagger', 'Steve Jobs']\n"
       ]
      }
     ],
     "prompt_number": 37
    },
    {
     "cell_type": "markdown",
     "metadata": {},
     "source": [
      "I'll let you figure that out on your own."
     ]
    },
    {
     "cell_type": "heading",
     "level": 4,
     "metadata": {},
     "source": [
      "Adding to a list"
     ]
    },
    {
     "cell_type": "markdown",
     "metadata": {},
     "source": [
      "This is simple: the append function adds an item to the end of the list.  \n",
      "The following command will add 'something' to the end of the list called listname:"
     ]
    },
    {
     "cell_type": "raw",
     "metadata": {},
     "source": [
      "listname.append(something)"
     ]
    },
    {
     "cell_type": "code",
     "collapsed": false,
     "input": [
      "bad_architects.append(\"First-year students\")\n",
      "print bad_architects"
     ],
     "language": "python",
     "metadata": {},
     "outputs": [
      {
       "output_type": "stream",
       "stream": "stdout",
       "text": [
        "['Donald Trump', 'Mick Jagger', 'Steve Jobs', 'Lady Gaga', 'Santa Clause', 'First-year students']\n"
       ]
      }
     ],
     "prompt_number": 38
    },
    {
     "cell_type": "heading",
     "level": 4,
     "metadata": {},
     "source": [
      "Deleting from a list"
     ]
    },
    {
     "cell_type": "markdown",
     "metadata": {},
     "source": [
      "There are two ways to do this, based on the information you have. If you have the value of the object, you'll want to use the remove function. It looks like this:  \n"
     ]
    },
    {
     "cell_type": "raw",
     "metadata": {},
     "source": [
      "listname.remove(value) "
     ]
    },
    {
     "cell_type": "markdown",
     "metadata": {},
     "source": [
      "An example:"
     ]
    },
    {
     "cell_type": "code",
     "collapsed": false,
     "input": [
      "bad_architects.remove(\"First-year students\")\n",
      "print bad_architects"
     ],
     "language": "python",
     "metadata": {},
     "outputs": [
      {
       "output_type": "stream",
       "stream": "stdout",
       "text": [
        "['Donald Trump', 'Mick Jagger', 'Steve Jobs', 'Lady Gaga', 'Santa Clause']\n"
       ]
      }
     ],
     "prompt_number": 39
    },
    {
     "cell_type": "markdown",
     "metadata": {},
     "source": [
      "What if you know the index of the item you want to remove?   \n",
      "What if you appended an item by mistake and just want to remove the last item in the list?   \n",
      "You should use the pop function. It looks like this:"
     ]
    },
    {
     "cell_type": "raw",
     "metadata": {},
     "source": [
      "listname.pop(index)"
     ]
    },
    {
     "cell_type": "code",
     "collapsed": false,
     "input": [
      "what_i_ate_today = [\"coffee\", \"bacon\", \"eggs\"]\n",
      "print what_i_ate_today"
     ],
     "language": "python",
     "metadata": {},
     "outputs": [
      {
       "output_type": "stream",
       "stream": "stdout",
       "text": [
        "['coffee', 'bacon', 'eggs']\n"
       ]
      }
     ],
     "prompt_number": 40
    },
    {
     "cell_type": "code",
     "collapsed": false,
     "input": [
      "what_i_ate_today.append(\"vegetables\") # adds vegetables to the end of the list\n",
      "# but I don't like vegetables\n",
      "print what_i_ate_today"
     ],
     "language": "python",
     "metadata": {},
     "outputs": [
      {
       "output_type": "stream",
       "stream": "stdout",
       "text": [
        "['coffee', 'bacon', 'eggs', 'vegetables']\n"
       ]
      }
     ],
     "prompt_number": 41
    },
    {
     "cell_type": "code",
     "collapsed": false,
     "input": [
      "# since I don't like vegetables\n",
      "what_i_ate_today.pop(-1) # use index of -1, since vegetables is the last item in the list\n",
      "print what_i_ate_today"
     ],
     "language": "python",
     "metadata": {},
     "outputs": [
      {
       "output_type": "stream",
       "stream": "stdout",
       "text": [
        "['coffee', 'bacon', 'eggs']\n"
       ]
      }
     ],
     "prompt_number": 42
    },
    {
     "cell_type": "markdown",
     "metadata": {},
     "source": [
      "You can also remove the second item."
     ]
    },
    {
     "cell_type": "code",
     "collapsed": false,
     "input": [
      "what_i_ate_today.pop(1)"
     ],
     "language": "python",
     "metadata": {},
     "outputs": [
      {
       "output_type": "pyout",
       "prompt_number": 43,
       "text": [
        "'bacon'"
       ]
      }
     ],
     "prompt_number": 43
    },
    {
     "cell_type": "markdown",
     "metadata": {},
     "source": [
      "Notice the 'bacon' in the line above.   \n",
      "pop actually 'pops' the value (the one you just removed from the list) back to you.  \n",
      "\n",
      "Let us pop the first item."
     ]
    },
    {
     "cell_type": "code",
     "collapsed": false,
     "input": [
      "was_first_item = what_i_ate_today.pop(0)\n",
      "print 'was_first_item =', was_first_item\n",
      "print 'what_i_ate_today = ', what_i_ate_today"
     ],
     "language": "python",
     "metadata": {},
     "outputs": [
      {
       "output_type": "stream",
       "stream": "stdout",
       "text": [
        "was_first_item = coffee\n",
        "what_i_ate_today =  ['eggs']\n"
       ]
      }
     ],
     "prompt_number": 44
    },
    {
     "cell_type": "markdown",
     "metadata": {},
     "source": [
      "what_i_ate_today is just 'eggs'?  \n",
      "That is not much of a breakfast!  \n",
      "\n",
      "Let us get back to pyeplus"
     ]
    },
    {
     "cell_type": "heading",
     "level": 3,
     "metadata": {},
     "source": [
      "Continuing to work E+ objects"
     ]
    },
    {
     "cell_type": "markdown",
     "metadata": {},
     "source": [
      "Let us get those \"MATERIAL\" objects again"
     ]
    },
    {
     "cell_type": "code",
     "collapsed": false,
     "input": [
      "materials = model[\"MATERIAL\"]"
     ],
     "language": "python",
     "metadata": {},
     "outputs": [],
     "prompt_number": 45
    },
    {
     "cell_type": "markdown",
     "metadata": {},
     "source": [
      "With our newfound knowldege of lists, we can do a lot of things.  \n",
      "Let us get the last material:"
     ]
    },
    {
     "cell_type": "code",
     "collapsed": false,
     "input": [
      "print materials[-1]"
     ],
     "language": "python",
     "metadata": {},
     "outputs": [
      {
       "output_type": "stream",
       "stream": "stdout",
       "text": [
        "\n",
        "Material,                 \n",
        "    G05 25mm wood,            !- Name\n",
        "    MediumSmooth,             !- Roughness\n",
        "    0.0254,                   !- Thickness\n",
        "    0.15,                     !- Conductivity\n",
        "    608.0,                    !- Density\n",
        "    1630.0;                   !- Specific Heat\n",
        "\n"
       ]
      }
     ],
     "prompt_number": 46
    },
    {
     "cell_type": "markdown",
     "metadata": {},
     "source": [
      "How about the last two?"
     ]
    },
    {
     "cell_type": "code",
     "collapsed": false,
     "input": [
      "print materials[-2:]"
     ],
     "language": "python",
     "metadata": {},
     "outputs": [
      {
       "output_type": "stream",
       "stream": "stdout",
       "text": [
        "[\n",
        "Material,                 \n",
        "    M05 200mm concrete block,    !- Name\n",
        "    MediumRough,              !- Roughness\n",
        "    0.2032,                   !- Thickness\n",
        "    1.11,                     !- Conductivity\n",
        "    800.0,                    !- Density\n",
        "    920.0;                    !- Specific Heat\n",
        ", \n",
        "Material,                 \n",
        "    G05 25mm wood,            !- Name\n",
        "    MediumSmooth,             !- Roughness\n",
        "    0.0254,                   !- Thickness\n",
        "    0.15,                     !- Conductivity\n",
        "    608.0,                    !- Density\n",
        "    1630.0;                   !- Specific Heat\n",
        "]\n"
       ]
      }
     ],
     "prompt_number": 47
    },
    {
     "cell_type": "markdown",
     "metadata": {},
     "source": [
      "Pretty good."
     ]
    },
    {
     "cell_type": "heading",
     "level": 4,
     "metadata": {},
     "source": [
      "Counting all the materials ( or counting all objects )"
     ]
    },
    {
     "cell_type": "markdown",
     "metadata": {},
     "source": [
      "How many materials are in this model ?"
     ]
    },
    {
     "cell_type": "code",
     "collapsed": false,
     "input": [
      "print len(materials)"
     ],
     "language": "python",
     "metadata": {},
     "outputs": [
      {
       "output_type": "stream",
       "stream": "stdout",
       "text": [
        "10\n"
       ]
      }
     ],
     "prompt_number": 48
    },
    {
     "cell_type": "heading",
     "level": 4,
     "metadata": {},
     "source": [
      "Removing a material"
     ]
    },
    {
     "cell_type": "markdown",
     "metadata": {},
     "source": [
      "Let us remove the last material in the list"
     ]
    },
    {
     "cell_type": "code",
     "collapsed": false,
     "input": [
      "was_last_material = materials.pop(-1)"
     ],
     "language": "python",
     "metadata": {},
     "outputs": [],
     "prompt_number": 49
    },
    {
     "cell_type": "code",
     "collapsed": false,
     "input": [
      "print len(materials)"
     ],
     "language": "python",
     "metadata": {},
     "outputs": [
      {
       "output_type": "stream",
       "stream": "stdout",
       "text": [
        "9\n"
       ]
      }
     ],
     "prompt_number": 50
    },
    {
     "cell_type": "markdown",
     "metadata": {},
     "source": [
      "Success! We have only 9 materials now."
     ]
    },
    {
     "cell_type": "markdown",
     "metadata": {},
     "source": [
      "The last material used to be:  \n",
      "'G05 25mm wood'"
     ]
    },
    {
     "cell_type": "code",
     "collapsed": false,
     "input": [
      "print materials[-1]"
     ],
     "language": "python",
     "metadata": {},
     "outputs": [
      {
       "output_type": "stream",
       "stream": "stdout",
       "text": [
        "\n",
        "Material,                 \n",
        "    M05 200mm concrete block,    !- Name\n",
        "    MediumRough,              !- Roughness\n",
        "    0.2032,                   !- Thickness\n",
        "    1.11,                     !- Conductivity\n",
        "    800.0,                    !- Density\n",
        "    920.0;                    !- Specific Heat\n",
        "\n"
       ]
      }
     ],
     "prompt_number": 51
    },
    {
     "cell_type": "markdown",
     "metadata": {},
     "source": [
      "Now the last material in the list is:  \n",
      "'M15 200mm heavyweight concrete'"
     ]
    },
    {
     "cell_type": "heading",
     "level": 4,
     "metadata": {},
     "source": [
      "Adding a material to the list"
     ]
    },
    {
     "cell_type": "markdown",
     "metadata": {},
     "source": [
      "We still have the old last material"
     ]
    },
    {
     "cell_type": "code",
     "collapsed": false,
     "input": [
      "print was_last_material"
     ],
     "language": "python",
     "metadata": {},
     "outputs": [
      {
       "output_type": "stream",
       "stream": "stdout",
       "text": [
        "\n",
        "Material,                 \n",
        "    G05 25mm wood,            !- Name\n",
        "    MediumSmooth,             !- Roughness\n",
        "    0.0254,                   !- Thickness\n",
        "    0.15,                     !- Conductivity\n",
        "    608.0,                    !- Density\n",
        "    1630.0;                   !- Specific Heat\n",
        "\n"
       ]
      }
     ],
     "prompt_number": 52
    },
    {
     "cell_type": "markdown",
     "metadata": {},
     "source": [
      "Let us add it back to the list"
     ]
    },
    {
     "cell_type": "code",
     "collapsed": false,
     "input": [
      "materials.append(was_last_material)"
     ],
     "language": "python",
     "metadata": {},
     "outputs": [],
     "prompt_number": 53
    },
    {
     "cell_type": "code",
     "collapsed": false,
     "input": [
      "print len(materials)"
     ],
     "language": "python",
     "metadata": {},
     "outputs": [
      {
       "output_type": "stream",
       "stream": "stdout",
       "text": [
        "10\n"
       ]
      }
     ],
     "prompt_number": 54
    },
    {
     "cell_type": "markdown",
     "metadata": {},
     "source": [
      "Once again we have 10 materials and the last material is:"
     ]
    },
    {
     "cell_type": "code",
     "collapsed": false,
     "input": [
      "print materials[-1]"
     ],
     "language": "python",
     "metadata": {},
     "outputs": [
      {
       "output_type": "stream",
       "stream": "stdout",
       "text": [
        "\n",
        "Material,                 \n",
        "    G05 25mm wood,            !- Name\n",
        "    MediumSmooth,             !- Roughness\n",
        "    0.0254,                   !- Thickness\n",
        "    0.15,                     !- Conductivity\n",
        "    608.0,                    !- Density\n",
        "    1630.0;                   !- Specific Heat\n",
        "\n"
       ]
      }
     ],
     "prompt_number": 55
    },
    {
     "cell_type": "heading",
     "level": 4,
     "metadata": {},
     "source": [
      "Add a new material to the model"
     ]
    },
    {
     "cell_type": "markdown",
     "metadata": {},
     "source": [
      "So far we have been working only with materials that were already in the list.  \n",
      "What if we want to make new material?  \n",
      "Obviously we would use the function 'addobject'."
     ]
    },
    {
     "cell_type": "code",
     "collapsed": false,
     "input": [
      "import modeleditor # has functions that let you edit the model\n",
      "modeleditor.addobject(model, to_print, idd_info, \"MATERIAL\", aname=\"Flashy new material\")\n",
      "\n",
      "# we need to use the to_print and idd_info that we got when we first read the idf file\n",
      "# remember when we did this:\n",
      "# model, to_print, idd_info = idfreader(idf_filename, iddfile)\n",
      "# \"MATERIAL\" tells it what kind of object we are making"
     ],
     "language": "python",
     "metadata": {},
     "outputs": [],
     "prompt_number": 56
    },
    {
     "cell_type": "code",
     "collapsed": false,
     "input": [
      "len(materials)"
     ],
     "language": "python",
     "metadata": {},
     "outputs": [
      {
       "output_type": "pyout",
       "prompt_number": 57,
       "text": [
        "11"
       ]
      }
     ],
     "prompt_number": 57
    },
    {
     "cell_type": "markdown",
     "metadata": {},
     "source": [
      "We have 11 items in the materials list.  \n",
      "Let us take a look at the last material in the list, where this fancy new material was added"
     ]
    },
    {
     "cell_type": "code",
     "collapsed": false,
     "input": [
      "print materials[-1]"
     ],
     "language": "python",
     "metadata": {},
     "outputs": [
      {
       "output_type": "stream",
       "stream": "stdout",
       "text": [
        "\n",
        "MATERIAL,                 \n",
        "    Flashy new material,      !- Name\n",
        "    ,                         !- Roughness\n",
        "    ,                         !- Thickness\n",
        "    ,                         !- Conductivity\n",
        "    ,                         !- Density\n",
        "    ,                         !- Specific Heat\n",
        "    .9,                       !- Thermal Absorptance\n",
        "    .7,                       !- Solar Absorptance\n",
        "    .7;                       !- Visible Absorptance\n",
        "\n"
       ]
      }
     ],
     "prompt_number": 58
    },
    {
     "cell_type": "markdown",
     "metadata": {},
     "source": [
      "Looks a little different from the other materials.  \n",
      "It does have the name we gave it.  \n",
      "Why do some fields have values and others are blank ?  \n",
      "\n",
      "\"addobject\" puts in all the default values, and leaves the others blank.  \n",
      "It is up to us to put values in the the new fields.  \n",
      "Let's do it now.  "
     ]
    },
    {
     "cell_type": "code",
     "collapsed": false,
     "input": [
      "materials[-1].Roughness = 'MediumSmooth'\n",
      "materials[-1].Thickness = 0.03\n",
      "materials[-1].Conductivity = 0.16\n",
      "materials[-1].Density = 600\n",
      "materials[-1].Specific_Heat = 1500"
     ],
     "language": "python",
     "metadata": {},
     "outputs": [],
     "prompt_number": 59
    },
    {
     "cell_type": "code",
     "collapsed": false,
     "input": [
      "print materials[-1]"
     ],
     "language": "python",
     "metadata": {},
     "outputs": [
      {
       "output_type": "stream",
       "stream": "stdout",
       "text": [
        "\n",
        "MATERIAL,                 \n",
        "    Flashy new material,      !- Name\n",
        "    MediumSmooth,             !- Roughness\n",
        "    0.03,                     !- Thickness\n",
        "    0.16,                     !- Conductivity\n",
        "    600,                      !- Density\n",
        "    1500,                     !- Specific Heat\n",
        "    .9,                       !- Thermal Absorptance\n",
        "    .7,                       !- Solar Absorptance\n",
        "    .7;                       !- Visible Absorptance\n",
        "\n"
       ]
      }
     ],
     "prompt_number": 60
    },
    {
     "cell_type": "heading",
     "level": 4,
     "metadata": {},
     "source": [
      "Copy an existing material"
     ]
    },
    {
     "cell_type": "code",
     "collapsed": false,
     "input": [
      "import copy\n",
      "# material_copy = copy.deepcopy(materials[0])\n",
      "# TODO: write a copy function for bunch."
     ],
     "language": "python",
     "metadata": {},
     "outputs": [],
     "prompt_number": 62
    },
    {
     "cell_type": "heading",
     "level": 3,
     "metadata": {},
     "source": [
      "More python: indentation and looping through lists"
     ]
    },
    {
     "cell_type": "markdown",
     "metadata": {},
     "source": [
      "I'm tired of doing all this work, it's time to make python do some heavy lifting for us!  "
     ]
    },
    {
     "cell_type": "markdown",
     "metadata": {},
     "source": [
      "Python can go through each item in a list and perform an operation on any (or every) item in the list.    \n",
      "This is called looping through the list.    \n",
      "Here's how to tell python to step through each item in a list, and then do something to every single item.   \n",
      "We'll use a 'for' loop to do this."
     ]
    },
    {
     "cell_type": "raw",
     "metadata": {},
     "source": [
      "for <variable> in <listname>:\n",
      "    <do something>"
     ]
    },
    {
     "cell_type": "markdown",
     "metadata": {},
     "source": [
      "A quick note about the second line. Notice that it's indented? There are 4 blank spaces before the code starts."
     ]
    },
    {
     "cell_type": "raw",
     "metadata": {},
     "source": [
      "    in python, indentations are used    \n",
      "    to determine the grouping of statements  \n",
      "           some languages use symbols to mark \n",
      "           where the function code starts and stops   \n",
      "           but python uses indentation to tell you this  \n",
      "                    i'm using indentation to\n",
      "                    show the beginning and end of a sentence\n",
      "           this is a very simple explanation\n",
      "           of indentation in python\n",
      "     if you'd like to know more, there is plenty of information\n",
      "     about indentation in python on the web"
     ]
    },
    {
     "cell_type": "markdown",
     "metadata": {},
     "source": [
      "It's elegant, but it means that the indentation of the code holds meaning.   \n",
      "So make sure to indent the second (and third and forth) lines of your loops!\n",
      "\n",
      "Now let's make some fruit loops.  "
     ]
    },
    {
     "cell_type": "code",
     "collapsed": false,
     "input": [
      "fruits = [\"apple\", \"orange\", \"bannana\"] "
     ],
     "language": "python",
     "metadata": {},
     "outputs": [],
     "prompt_number": 2
    },
    {
     "cell_type": "markdown",
     "metadata": {},
     "source": [
      "Given the syntax I gave you before I started rambling about indentation,  \n",
      "we can easily print every item in the fruits list by using a 'for' loop."
     ]
    },
    {
     "cell_type": "code",
     "collapsed": false,
     "input": [
      "for fruit in fruits:\n",
      "   print fruit"
     ],
     "language": "python",
     "metadata": {},
     "outputs": [
      {
       "output_type": "stream",
       "stream": "stdout",
       "text": [
        "apple\n",
        "orange\n",
        "bannana\n"
       ]
      }
     ],
     "prompt_number": 3
    },
    {
     "cell_type": "markdown",
     "metadata": {},
     "source": [
      "That was easy! But it can get complicated pretty quickly...  \n",
      "Let's make it do something more complicated than just print the fruits.  \n",
      "Let's have python add some words to each fruit. "
     ]
    },
    {
     "cell_type": "code",
     "collapsed": false,
     "input": [
      "for fruit in fruits:\n",
      "    print \"I am a fruit said the\", fruit"
     ],
     "language": "python",
     "metadata": {},
     "outputs": [
      {
       "output_type": "stream",
       "stream": "stdout",
       "text": [
        "I am a fruit said the apple\n",
        "I am a fruit said the orange\n",
        "I am a fruit said the bannana\n"
       ]
      }
     ],
     "prompt_number": 65
    },
    {
     "cell_type": "markdown",
     "metadata": {},
     "source": [
      "Now we'll try to confuse you:"
     ]
    },
    {
     "cell_type": "code",
     "collapsed": false,
     "input": [
      "rottenfruits = [] # makes a blank list called rottenfruits\n",
      "for fruit in fruits: # steps through every item in fruits\n",
      "    rottenfruit = \"rotten \" + fruit # changes each item to \"rotten _____\"\n",
      "    rottenfruits.append(rottenfruit) # adds each changed item to the formerly empty list"
     ],
     "language": "python",
     "metadata": {},
     "outputs": [],
     "prompt_number": 66
    },
    {
     "cell_type": "code",
     "collapsed": false,
     "input": [
      "print rottenfruits"
     ],
     "language": "python",
     "metadata": {},
     "outputs": [
      {
       "output_type": "stream",
       "stream": "stdout",
       "text": [
        "['rotten apple', 'rotten orange', 'rotten bannana']\n"
       ]
      }
     ],
     "prompt_number": 67
    },
    {
     "cell_type": "code",
     "collapsed": false,
     "input": [
      "# here's a shorter way of writing it\n",
      "rottenfruits = [\"rotten \" + fruit for fruit in fruits]"
     ],
     "language": "python",
     "metadata": {},
     "outputs": [],
     "prompt_number": 68
    },
    {
     "cell_type": "markdown",
     "metadata": {},
     "source": [
      "Did you follow all thatjQuery17107089735646732152_1364939283092 \n",
      "Just in case you didn't, let's review that last one..."
     ]
    },
    {
     "cell_type": "raw",
     "metadata": {},
     "source": [
      "[\"rotten \" + fruit for fruit in fruits]\n",
      "                   -------------------\n",
      "                   This is the \"for loop\"\n",
      "                   it steps through each fruit in fruits\n",
      "\n",
      "[\"rotten \" + fruit for fruit in fruits]\n",
      " -----------------\n",
      " add \"rotten \" to the fruit at each step\n",
      " this is your \"do something\"\n",
      " \n",
      "[\"rotten \" + fruit for fruit in fruits]\n",
      "---------------------------------------\n",
      "give a new list that is a result of the \"do something\""
     ]
    },
    {
     "cell_type": "code",
     "collapsed": false,
     "input": [
      "print rottenfruits"
     ],
     "language": "python",
     "metadata": {},
     "outputs": [
      {
       "output_type": "stream",
       "stream": "stdout",
       "text": [
        "['rotten apple', 'rotten orange', 'rotten bannana']\n"
       ]
      }
     ],
     "prompt_number": 69
    },
    {
     "cell_type": "heading",
     "level": 4,
     "metadata": {},
     "source": [
      "Filtering in a loop"
     ]
    },
    {
     "cell_type": "markdown",
     "metadata": {},
     "source": [
      "But what if you don't want to change *every* item in a list?  \n",
      "We can use an 'if' statement to operate on only some items in the list.  \n",
      "\n",
      "Indentation is also important in 'if' statements, as you'll see:"
     ]
    },
    {
     "cell_type": "raw",
     "metadata": {},
     "source": [
      "if <someconstraint>:\n",
      "    <if the data fulfills the constraint, do this>\n",
      "<but if it's false, do this>       # if you want python to do nothing to the data that doesn't \n",
      "                                     fulfill the requirement, leave this line out"
     ]
    },
    {
     "cell_type": "code",
     "collapsed": false,
     "input": [
      "fruits = [\"apple\", \"orange\", \"pear\", \"berry\", \"mango\", \"plum\", \"peach\", \"melon\", \"bannana\"]"
     ],
     "language": "python",
     "metadata": {},
     "outputs": [],
     "prompt_number": 2
    },
    {
     "cell_type": "code",
     "collapsed": false,
     "input": [
      "for fruit in fruits:               # steps through every fruit in fruits\n",
      "    if len(fruit) > 5:             # checks to see if the length is more than 5\n",
      "        print fruit                # if true, print the fruit\n",
      "                                   # if false, python goes back to the 'for' loop \n",
      "                                      # and checks the next item in the list"
     ],
     "language": "python",
     "metadata": {},
     "outputs": [
      {
       "output_type": "stream",
       "stream": "stdout",
       "text": [
        "orange\n",
        "bannana\n"
       ]
      }
     ],
     "prompt_number": 4
    },
    {
     "cell_type": "markdown",
     "metadata": {},
     "source": [
      "Let's say we want to pick only the fruits that start with the letter 'p'. "
     ]
    },
    {
     "cell_type": "code",
     "collapsed": false,
     "input": [
      "p_fruits = []                      # creates an empty list called p_fruits\n",
      "for fruit in fruits:               # steps through every fruit in fruits\n",
      "    if fruit.startswith(\"p\"):      # checks to see if the first letter is 'p'\n",
      "        p_fruits.append(fruit)     # if the first letter is 'p', the item is added to p_fruits\n",
      "                                   # if the first letter is not 'p', python goes back to the 'for' loop\n",
      "                                      # and checks the next item in the list"
     ],
     "language": "python",
     "metadata": {},
     "outputs": [],
     "prompt_number": 74
    },
    {
     "cell_type": "code",
     "collapsed": false,
     "input": [
      "print p_fruits"
     ],
     "language": "python",
     "metadata": {},
     "outputs": [
      {
       "output_type": "stream",
       "stream": "stdout",
       "text": [
        "['pear', 'plum', 'peach']\n"
       ]
      }
     ],
     "prompt_number": 75
    },
    {
     "cell_type": "code",
     "collapsed": false,
     "input": [
      "# here's a shorter way to write it\n",
      "p_fruits = [fruit for fruit in fruits if fruit.startswith(\"p\")]"
     ],
     "language": "python",
     "metadata": {},
     "outputs": [],
     "prompt_number": 77
    },
    {
     "cell_type": "raw",
     "metadata": {},
     "source": [
      "[fruit for fruit in fruits if fruit.startswith(\"p\")]\n",
      "       -------------------\n",
      "       for loop\n",
      "\n",
      "[fruit for fruit in fruits if fruit.startswith(\"p\")]\n",
      "                           ------------------------\n",
      "                           pick only some of the fruits\n",
      "\n",
      "[fruit for fruit in fruits if fruit.startswith(\"p\")]\n",
      " -----\n",
      " do nothing to the fruit, just give  it to me\n",
      " \n",
      "[fruit for fruit in fruits if fruit.startswith(\"p\")]\n",
      "----------------------------------------------------\n",
      "a fresh new list with those fruits"
     ]
    },
    {
     "cell_type": "code",
     "collapsed": false,
     "input": [
      "print p_fruits"
     ],
     "language": "python",
     "metadata": {},
     "outputs": [
      {
       "output_type": "stream",
       "stream": "stdout",
       "text": [
        "['pear', 'plum', 'peach']\n"
       ]
      }
     ],
     "prompt_number": 78
    },
    {
     "cell_type": "heading",
     "level": 4,
     "metadata": {},
     "source": [
      "Counting through loops"
     ]
    },
    {
     "cell_type": "markdown",
     "metadata": {},
     "source": [
      "This is not really needed, but it is nice to know. You can safely skip this."
     ]
    },
    {
     "cell_type": "markdown",
     "metadata": {},
     "source": [
      "Python's built-in function range() makes a list of numbers within a range that you specify.    \n",
      "This is useful because you can use these lists inside of loops."
     ]
    },
    {
     "cell_type": "code",
     "collapsed": false,
     "input": [
      "range(4) # makes a list"
     ],
     "language": "python",
     "metadata": {},
     "outputs": [
      {
       "output_type": "pyout",
       "prompt_number": 80,
       "text": [
        "[0, 1, 2, 3]"
       ]
      }
     ],
     "prompt_number": 80
    },
    {
     "cell_type": "code",
     "collapsed": false,
     "input": [
      "for i in range(4):\n",
      "    print i"
     ],
     "language": "python",
     "metadata": {},
     "outputs": [
      {
       "output_type": "stream",
       "stream": "stdout",
       "text": [
        "0\n",
        "1\n",
        "2\n",
        "3\n"
       ]
      }
     ],
     "prompt_number": 81
    },
    {
     "cell_type": "code",
     "collapsed": false,
     "input": [
      "len(p_fruits)"
     ],
     "language": "python",
     "metadata": {},
     "outputs": [
      {
       "output_type": "pyout",
       "prompt_number": 83,
       "text": [
        "3"
       ]
      }
     ],
     "prompt_number": 83
    },
    {
     "cell_type": "code",
     "collapsed": false,
     "input": [
      "for i in range(len(p_fruits)):\n",
      "    print i"
     ],
     "language": "python",
     "metadata": {},
     "outputs": [
      {
       "output_type": "stream",
       "stream": "stdout",
       "text": [
        "0\n",
        "1\n",
        "2\n"
       ]
      }
     ],
     "prompt_number": 85
    },
    {
     "cell_type": "code",
     "collapsed": false,
     "input": [
      "for i in range(len(p_fruits)):\n",
      "    print p_fruits[i]"
     ],
     "language": "python",
     "metadata": {},
     "outputs": [
      {
       "output_type": "stream",
       "stream": "stdout",
       "text": [
        "pear\n",
        "plum\n",
        "peach\n"
       ]
      }
     ],
     "prompt_number": 86
    },
    {
     "cell_type": "code",
     "collapsed": false,
     "input": [
      "for i in range(len(p_fruits)):\n",
      "    print i,  p_fruits[i]"
     ],
     "language": "python",
     "metadata": {},
     "outputs": [
      {
       "output_type": "stream",
       "stream": "stdout",
       "text": [
        "0 pear\n",
        "1 plum\n",
        "2 peach\n"
       ]
      }
     ],
     "prompt_number": 94
    },
    {
     "cell_type": "code",
     "collapsed": false,
     "input": [
      "for item_from_enumerate in enumerate(p_fruits):\n",
      "    print item_from_enumerate"
     ],
     "language": "python",
     "metadata": {},
     "outputs": [
      {
       "output_type": "stream",
       "stream": "stdout",
       "text": [
        "(0, 'pear')\n",
        "(1, 'plum')\n",
        "(2, 'peach')\n"
       ]
      }
     ],
     "prompt_number": 96
    },
    {
     "cell_type": "code",
     "collapsed": false,
     "input": [
      "for i, fruit in enumerate(p_fruits):\n",
      "    print i, fruit"
     ],
     "language": "python",
     "metadata": {},
     "outputs": [
      {
       "output_type": "stream",
       "stream": "stdout",
       "text": [
        "0 pear\n",
        "1 plum\n",
        "2 peach\n"
       ]
      }
     ],
     "prompt_number": 97
    },
    {
     "cell_type": "heading",
     "level": 2,
     "metadata": {},
     "source": [
      "Looping to E+ objects"
     ]
    },
    {
     "cell_type": "markdown",
     "metadata": {},
     "source": [
      "If you have read the python explanation of loops, you are now masters of using loops.  \n",
      "Let us use the loops with E+ objects.  \n",
      "We'll continue to work with the materials list."
     ]
    },
    {
     "cell_type": "code",
     "collapsed": false,
     "input": [
      "for material in materials:\n",
      "    print material.Name    "
     ],
     "language": "python",
     "metadata": {},
     "outputs": [
      {
       "output_type": "stream",
       "stream": "stdout",
       "text": [
        "F08 Metal surface\n",
        "I01 25mm insulation board\n",
        "I02 50mm insulation board\n",
        "G01a 19mm gypsum board\n",
        "M11 100mm lightweight concrete\n",
        "F16 Acoustic tile\n",
        "M01 100mm brick\n",
        "M15 200mm heavyweight concrete\n",
        "M05 200mm concrete block\n",
        "G05 25mm wood\n",
        "Flashy new material\n"
       ]
      }
     ],
     "prompt_number": 79
    },
    {
     "cell_type": "code",
     "collapsed": false,
     "input": [
      "[m.Name for m in materials] "
     ],
     "language": "python",
     "metadata": {},
     "outputs": [
      {
       "output_type": "pyout",
       "prompt_number": 116,
       "text": [
        "['F08 Metal surface',\n",
        " 'I01 25mm insulation board',\n",
        " 'I02 50mm insulation board',\n",
        " 'G01a 19mm gypsum board',\n",
        " 'M11 100mm lightweight concrete',\n",
        " 'F16 Acoustic tile',\n",
        " 'M01 100mm brick',\n",
        " 'M15 200mm heavyweight concrete',\n",
        " 'M05 200mm concrete block',\n",
        " 'G05 25mm wood',\n",
        " 'Flashy new material']"
       ]
      }
     ],
     "prompt_number": 116
    },
    {
     "cell_type": "code",
     "collapsed": false,
     "input": [
      "[m.Roughness for m in materials]"
     ],
     "language": "python",
     "metadata": {},
     "outputs": [
      {
       "output_type": "pyout",
       "prompt_number": 117,
       "text": [
        "['Smooth',\n",
        " 'MediumRough',\n",
        " 'MediumRough',\n",
        " 'MediumSmooth',\n",
        " 'MediumRough',\n",
        " 'MediumSmooth',\n",
        " 'MediumRough',\n",
        " 'MediumRough',\n",
        " 'MediumRough',\n",
        " 'MediumSmooth',\n",
        " 'MediumSmooth']"
       ]
      }
     ],
     "prompt_number": 117
    },
    {
     "cell_type": "code",
     "collapsed": false,
     "input": [
      "[m.Thickness for m in materials]"
     ],
     "language": "python",
     "metadata": {},
     "outputs": [
      {
       "output_type": "pyout",
       "prompt_number": 118,
       "text": [
        "[0.0008,\n",
        " 0.0254,\n",
        " 0.0508,\n",
        " 0.019,\n",
        " 0.1016,\n",
        " 0.0191,\n",
        " 0.1016,\n",
        " 0.2032,\n",
        " 0.2032,\n",
        " 0.0254,\n",
        " 0.03]"
       ]
      }
     ],
     "prompt_number": 118
    },
    {
     "cell_type": "code",
     "collapsed": false,
     "input": [
      "[m.Thickness for m in materials if m.Thickness > 0.1]"
     ],
     "language": "python",
     "metadata": {},
     "outputs": [
      {
       "output_type": "pyout",
       "prompt_number": 119,
       "text": [
        "[0.1016, 0.1016, 0.2032, 0.2032]"
       ]
      }
     ],
     "prompt_number": 119
    },
    {
     "cell_type": "code",
     "collapsed": false,
     "input": [
      "[m.Name for m in materials if m.Thickness > 0.1]"
     ],
     "language": "python",
     "metadata": {},
     "outputs": [
      {
       "output_type": "pyout",
       "prompt_number": 120,
       "text": [
        "['M11 100mm lightweight concrete',\n",
        " 'M01 100mm brick',\n",
        " 'M15 200mm heavyweight concrete',\n",
        " 'M05 200mm concrete block']"
       ]
      }
     ],
     "prompt_number": 120
    },
    {
     "cell_type": "code",
     "collapsed": false,
     "input": [
      "thick_materials = [m for m in materials if m.Thickness > 0.1]"
     ],
     "language": "python",
     "metadata": {},
     "outputs": [],
     "prompt_number": 121
    },
    {
     "cell_type": "code",
     "collapsed": false,
     "input": [
      "thick_materials"
     ],
     "language": "python",
     "metadata": {},
     "outputs": [
      {
       "output_type": "pyout",
       "prompt_number": 122,
       "text": [
        "[\n",
        "Material,                 \n",
        "    M11 100mm lightweight concrete,    !- Name\n",
        "    MediumRough,              !- Roughness\n",
        "    0.1016,                   !- Thickness\n",
        "    0.53,                     !- Conductivity\n",
        "    1280.0,                   !- Density\n",
        "    840.0;                    !- Specific Heat\n",
        ",\n",
        " \n",
        "Material,                 \n",
        "    M01 100mm brick,          !- Name\n",
        "    MediumRough,              !- Roughness\n",
        "    0.1016,                   !- Thickness\n",
        "    0.89,                     !- Conductivity\n",
        "    1920.0,                   !- Density\n",
        "    790.0;                    !- Specific Heat\n",
        ",\n",
        " \n",
        "Material,                 \n",
        "    M15 200mm heavyweight concrete,    !- Name\n",
        "    MediumRough,              !- Roughness\n",
        "    0.2032,                   !- Thickness\n",
        "    1.95,                     !- Conductivity\n",
        "    2240.0,                   !- Density\n",
        "    900.0;                    !- Specific Heat\n",
        ",\n",
        " \n",
        "Material,                 \n",
        "    M05 200mm concrete block,    !- Name\n",
        "    MediumRough,              !- Roughness\n",
        "    0.2032,                   !- Thickness\n",
        "    1.11,                     !- Conductivity\n",
        "    800.0,                    !- Density\n",
        "    920.0;                    !- Specific Heat\n",
        "]"
       ]
      }
     ],
     "prompt_number": 122
    },
    {
     "cell_type": "code",
     "collapsed": false,
     "input": [
      "# change the names of the thick materials\n",
      "for material in thick_materials:\n",
      "    material.Name = \"THICK \" + material.Name"
     ],
     "language": "python",
     "metadata": {},
     "outputs": [],
     "prompt_number": 123
    },
    {
     "cell_type": "code",
     "collapsed": false,
     "input": [
      "thick_materials"
     ],
     "language": "python",
     "metadata": {},
     "outputs": [
      {
       "output_type": "pyout",
       "prompt_number": 124,
       "text": [
        "[\n",
        "Material,                 \n",
        "    THICK M11 100mm lightweight concrete,    !- Name\n",
        "    MediumRough,              !- Roughness\n",
        "    0.1016,                   !- Thickness\n",
        "    0.53,                     !- Conductivity\n",
        "    1280.0,                   !- Density\n",
        "    840.0;                    !- Specific Heat\n",
        ",\n",
        " \n",
        "Material,                 \n",
        "    THICK M01 100mm brick,    !- Name\n",
        "    MediumRough,              !- Roughness\n",
        "    0.1016,                   !- Thickness\n",
        "    0.89,                     !- Conductivity\n",
        "    1920.0,                   !- Density\n",
        "    790.0;                    !- Specific Heat\n",
        ",\n",
        " \n",
        "Material,                 \n",
        "    THICK M15 200mm heavyweight concrete,    !- Name\n",
        "    MediumRough,              !- Roughness\n",
        "    0.2032,                   !- Thickness\n",
        "    1.95,                     !- Conductivity\n",
        "    2240.0,                   !- Density\n",
        "    900.0;                    !- Specific Heat\n",
        ",\n",
        " \n",
        "Material,                 \n",
        "    THICK M05 200mm concrete block,    !- Name\n",
        "    MediumRough,              !- Roughness\n",
        "    0.2032,                   !- Thickness\n",
        "    1.11,                     !- Conductivity\n",
        "    800.0,                    !- Density\n",
        "    920.0;                    !- Specific Heat\n",
        "]"
       ]
      }
     ],
     "prompt_number": 124
    },
    {
     "cell_type": "markdown",
     "metadata": {},
     "source": [
      "So now we're working with two different lists: materials and thick_materials.  \n",
      "But even though the items can be separated into two lists, we're still working with the same items.  \n",
      "Here's a helpful illustration:"
     ]
    },
    {
     "cell_type": "code",
     "collapsed": false,
     "input": [
      "import ex_inits as for_images # initializes the images used in this documentation\n",
      "for_images.display_jpg(for_images.items lists)"
     ],
     "language": "python",
     "metadata": {},
     "outputs": [
      {
       "ename": "SyntaxError",
       "evalue": "('invalid syntax', ('<ipython-input-1-8987a458d8a5>', 2, 45, 'for_images.display_jpg(for_images.items lists)\\n'))",
       "output_type": "pyerr",
       "traceback": [
        "\u001b[0;36m  File \u001b[0;32m\"<ipython-input-1-8987a458d8a5>\"\u001b[0;36m, line \u001b[0;32m2\u001b[0m\n\u001b[0;31m    for_images.display_jpg(for_images.items lists)\u001b[0m\n\u001b[0m                                                ^\u001b[0m\n\u001b[0;31mSyntaxError\u001b[0m\u001b[0;31m:\u001b[0m invalid syntax\n"
       ]
      }
     ],
     "prompt_number": 1
    },
    {
     "cell_type": "code",
     "collapsed": false,
     "input": [
      "# here's the same concept, demonstrated with code\n",
      "# remember, we changed the names of the items in the list think_materials\n",
      "# these changes are visible when we print the materials list, because the thick materials are also in the materials list \n",
      "[m.Name for m in materials]"
     ],
     "language": "python",
     "metadata": {},
     "outputs": [
      {
       "output_type": "pyout",
       "prompt_number": 125,
       "text": [
        "['F08 Metal surface',\n",
        " 'I01 25mm insulation board',\n",
        " 'I02 50mm insulation board',\n",
        " 'G01a 19mm gypsum board',\n",
        " 'THICK M11 100mm lightweight concrete',\n",
        " 'F16 Acoustic tile',\n",
        " 'THICK M01 100mm brick',\n",
        " 'THICK M15 200mm heavyweight concrete',\n",
        " 'THICK M05 200mm concrete block',\n",
        " 'G05 25mm wood',\n",
        " 'Flashy new material']"
       ]
      }
     ],
     "prompt_number": 125
    },
    {
     "cell_type": "code",
     "collapsed": false,
     "input": [],
     "language": "python",
     "metadata": {},
     "outputs": []
    },
    {
     "cell_type": "code",
     "collapsed": false,
     "input": [],
     "language": "python",
     "metadata": {},
     "outputs": []
    }
   ],
   "metadata": {}
  }
 ]
}